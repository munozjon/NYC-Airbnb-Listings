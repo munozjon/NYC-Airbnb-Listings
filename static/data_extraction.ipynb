{
 "cells": [
  {
   "cell_type": "markdown",
   "id": "5741a9af-e89a-4819-a875-93e1e0c3fd38",
   "metadata": {},
   "source": [
    "## Import the database from MongoDB"
   ]
  },
  {
   "cell_type": "code",
   "execution_count": 1,
   "id": "646abdce-1557-476c-87f6-97a7cd8bb168",
   "metadata": {},
   "outputs": [],
   "source": [
    "from pymongo import MongoClient\n",
    "import pandas as pd\n",
    "from json import loads, dumps"
   ]
  },
  {
   "cell_type": "code",
   "execution_count": 2,
   "id": "20874700-2b52-495c-b500-59939ca596e8",
   "metadata": {},
   "outputs": [],
   "source": [
    "mongo = MongoClient(port=27017)"
   ]
  },
  {
   "cell_type": "code",
   "execution_count": 3,
   "id": "a8cc1d83-a4e9-4712-9eb8-c2a90528b416",
   "metadata": {},
   "outputs": [
    {
     "name": "stdout",
     "output_type": "stream",
     "text": [
      "['admin', 'classDB', 'config', 'epa', 'fruits_db', 'listings_db', 'local', 'travel_db', 'uk_food']\n"
     ]
    }
   ],
   "source": [
    "print(mongo.list_database_names())"
   ]
  },
  {
   "cell_type": "code",
   "execution_count": 4,
   "id": "8a2912d7-396e-4858-8ba9-c1d1c12eb601",
   "metadata": {},
   "outputs": [
    {
     "name": "stdout",
     "output_type": "stream",
     "text": [
      "Collection(Database(MongoClient(host=['localhost:27017'], document_class=dict, tz_aware=False, connect=True), 'listings_db'), 'nyc_listings')\n"
     ]
    }
   ],
   "source": [
    "listings = mongo['listings_db'].nyc_listings\n",
    "print(listings)"
   ]
  },
  {
   "cell_type": "code",
   "execution_count": 5,
   "id": "90aa7e03-6da3-4bb5-9760-8258ada6df72",
   "metadata": {},
   "outputs": [
    {
     "data": {
      "text/html": [
       "<div>\n",
       "<style scoped>\n",
       "    .dataframe tbody tr th:only-of-type {\n",
       "        vertical-align: middle;\n",
       "    }\n",
       "\n",
       "    .dataframe tbody tr th {\n",
       "        vertical-align: top;\n",
       "    }\n",
       "\n",
       "    .dataframe thead th {\n",
       "        text-align: right;\n",
       "    }\n",
       "</style>\n",
       "<table border=\"1\" class=\"dataframe\">\n",
       "  <thead>\n",
       "    <tr style=\"text-align: right;\">\n",
       "      <th></th>\n",
       "      <th>_id</th>\n",
       "      <th>id</th>\n",
       "      <th>listing_url</th>\n",
       "      <th>name</th>\n",
       "      <th>neighborhood_overview</th>\n",
       "      <th>neighbourhood_cleansed</th>\n",
       "      <th>neighbourhood_group_cleansed</th>\n",
       "      <th>latitude</th>\n",
       "      <th>longitude</th>\n",
       "      <th>property_type</th>\n",
       "      <th>...</th>\n",
       "      <th>bathrooms_text</th>\n",
       "      <th>bedrooms</th>\n",
       "      <th>beds</th>\n",
       "      <th>amenities</th>\n",
       "      <th>price</th>\n",
       "      <th>number_of_reviews</th>\n",
       "      <th>first_review</th>\n",
       "      <th>last_review</th>\n",
       "      <th>review_scores_rating</th>\n",
       "      <th>reviews_per_month</th>\n",
       "    </tr>\n",
       "  </thead>\n",
       "  <tbody>\n",
       "    <tr>\n",
       "      <th>0</th>\n",
       "      <td>666c99367177588cd31b62d7</td>\n",
       "      <td>2595</td>\n",
       "      <td>https://www.airbnb.com/rooms/2595</td>\n",
       "      <td>Rental unit in New York · ★4.68 · Studio · 1 b...</td>\n",
       "      <td>Centrally located in the heart of Manhattan ju...</td>\n",
       "      <td>Midtown</td>\n",
       "      <td>Manhattan</td>\n",
       "      <td>40.75356</td>\n",
       "      <td>-73.98559</td>\n",
       "      <td>Entire rental unit</td>\n",
       "      <td>...</td>\n",
       "      <td>1 bath</td>\n",
       "      <td>NaN</td>\n",
       "      <td>1.0</td>\n",
       "      <td>[Long term stays allowed, Cooking basics, Ethe...</td>\n",
       "      <td>$240.00</td>\n",
       "      <td>49</td>\n",
       "      <td>2009-11-21</td>\n",
       "      <td>2022-06-21</td>\n",
       "      <td>4.68</td>\n",
       "      <td>0.29</td>\n",
       "    </tr>\n",
       "    <tr>\n",
       "      <th>1</th>\n",
       "      <td>666c99367177588cd31b62d8</td>\n",
       "      <td>5121</td>\n",
       "      <td>https://www.airbnb.com/rooms/5121</td>\n",
       "      <td>Rental unit in Brooklyn · ★4.52 · 1 bedroom · ...</td>\n",
       "      <td></td>\n",
       "      <td>Bedford-Stuyvesant</td>\n",
       "      <td>Brooklyn</td>\n",
       "      <td>40.68535</td>\n",
       "      <td>-73.95512</td>\n",
       "      <td>Private room in rental unit</td>\n",
       "      <td>...</td>\n",
       "      <td></td>\n",
       "      <td>NaN</td>\n",
       "      <td>1.0</td>\n",
       "      <td>[Air conditioning, Wifi, Kitchen, Heating]</td>\n",
       "      <td>$66.00</td>\n",
       "      <td>50</td>\n",
       "      <td>2009-05-28</td>\n",
       "      <td>2019-12-02</td>\n",
       "      <td>4.52</td>\n",
       "      <td>0.28</td>\n",
       "    </tr>\n",
       "    <tr>\n",
       "      <th>2</th>\n",
       "      <td>666c99367177588cd31b62d9</td>\n",
       "      <td>6848</td>\n",
       "      <td>https://www.airbnb.com/rooms/6848</td>\n",
       "      <td>Rental unit in Brooklyn · ★4.58 · 2 bedrooms ·...</td>\n",
       "      <td></td>\n",
       "      <td>Williamsburg</td>\n",
       "      <td>Brooklyn</td>\n",
       "      <td>40.70935</td>\n",
       "      <td>-73.95342</td>\n",
       "      <td>Entire rental unit</td>\n",
       "      <td>...</td>\n",
       "      <td>1 bath</td>\n",
       "      <td>NaN</td>\n",
       "      <td>1.0</td>\n",
       "      <td>[Cooking basics, Microwave, Extra pillows and ...</td>\n",
       "      <td>$81.00</td>\n",
       "      <td>191</td>\n",
       "      <td>2009-05-25</td>\n",
       "      <td>2023-08-14</td>\n",
       "      <td>4.58</td>\n",
       "      <td>1.08</td>\n",
       "    </tr>\n",
       "    <tr>\n",
       "      <th>3</th>\n",
       "      <td>666c99367177588cd31b62da</td>\n",
       "      <td>6990</td>\n",
       "      <td>https://www.airbnb.com/rooms/6990</td>\n",
       "      <td>Rental unit in New York · ★4.88 · 1 bedroom · ...</td>\n",
       "      <td>Location: Five minutes to Central Park, Museum...</td>\n",
       "      <td>East Harlem</td>\n",
       "      <td>Manhattan</td>\n",
       "      <td>40.78778</td>\n",
       "      <td>-73.94759</td>\n",
       "      <td>Private room in rental unit</td>\n",
       "      <td>...</td>\n",
       "      <td>1 shared bath</td>\n",
       "      <td>NaN</td>\n",
       "      <td>1.0</td>\n",
       "      <td>[Hair dryer, Air conditioning, Fire extinguish...</td>\n",
       "      <td>$70.00</td>\n",
       "      <td>246</td>\n",
       "      <td>2009-10-28</td>\n",
       "      <td>2023-08-14</td>\n",
       "      <td>4.88</td>\n",
       "      <td>1.43</td>\n",
       "    </tr>\n",
       "    <tr>\n",
       "      <th>4</th>\n",
       "      <td>666c99367177588cd31b62db</td>\n",
       "      <td>6872</td>\n",
       "      <td>https://www.airbnb.com/rooms/6872</td>\n",
       "      <td>Condo in New York · 1 bedroom · 1 bed · 1 shar...</td>\n",
       "      <td>This sweet Harlem sanctuary is a 10-20 minute ...</td>\n",
       "      <td>East Harlem</td>\n",
       "      <td>Manhattan</td>\n",
       "      <td>40.80107</td>\n",
       "      <td>-73.94255</td>\n",
       "      <td>Private room in condo</td>\n",
       "      <td>...</td>\n",
       "      <td>1 shared bath</td>\n",
       "      <td>NaN</td>\n",
       "      <td>1.0</td>\n",
       "      <td>[Fire extinguisher, Long term stays allowed, H...</td>\n",
       "      <td>$65.00</td>\n",
       "      <td>1</td>\n",
       "      <td>2022-06-05</td>\n",
       "      <td>2022-06-05</td>\n",
       "      <td>5.00</td>\n",
       "      <td>0.05</td>\n",
       "    </tr>\n",
       "  </tbody>\n",
       "</table>\n",
       "<p>5 rows × 23 columns</p>\n",
       "</div>"
      ],
      "text/plain": [
       "                        _id    id                        listing_url  \\\n",
       "0  666c99367177588cd31b62d7  2595  https://www.airbnb.com/rooms/2595   \n",
       "1  666c99367177588cd31b62d8  5121  https://www.airbnb.com/rooms/5121   \n",
       "2  666c99367177588cd31b62d9  6848  https://www.airbnb.com/rooms/6848   \n",
       "3  666c99367177588cd31b62da  6990  https://www.airbnb.com/rooms/6990   \n",
       "4  666c99367177588cd31b62db  6872  https://www.airbnb.com/rooms/6872   \n",
       "\n",
       "                                                name  \\\n",
       "0  Rental unit in New York · ★4.68 · Studio · 1 b...   \n",
       "1  Rental unit in Brooklyn · ★4.52 · 1 bedroom · ...   \n",
       "2  Rental unit in Brooklyn · ★4.58 · 2 bedrooms ·...   \n",
       "3  Rental unit in New York · ★4.88 · 1 bedroom · ...   \n",
       "4  Condo in New York · 1 bedroom · 1 bed · 1 shar...   \n",
       "\n",
       "                               neighborhood_overview neighbourhood_cleansed  \\\n",
       "0  Centrally located in the heart of Manhattan ju...                Midtown   \n",
       "1                                                        Bedford-Stuyvesant   \n",
       "2                                                              Williamsburg   \n",
       "3  Location: Five minutes to Central Park, Museum...            East Harlem   \n",
       "4  This sweet Harlem sanctuary is a 10-20 minute ...            East Harlem   \n",
       "\n",
       "  neighbourhood_group_cleansed  latitude  longitude  \\\n",
       "0                    Manhattan  40.75356  -73.98559   \n",
       "1                     Brooklyn  40.68535  -73.95512   \n",
       "2                     Brooklyn  40.70935  -73.95342   \n",
       "3                    Manhattan  40.78778  -73.94759   \n",
       "4                    Manhattan  40.80107  -73.94255   \n",
       "\n",
       "                 property_type  ... bathrooms_text  bedrooms beds  \\\n",
       "0           Entire rental unit  ...         1 bath       NaN  1.0   \n",
       "1  Private room in rental unit  ...                      NaN  1.0   \n",
       "2           Entire rental unit  ...         1 bath       NaN  1.0   \n",
       "3  Private room in rental unit  ...  1 shared bath       NaN  1.0   \n",
       "4        Private room in condo  ...  1 shared bath       NaN  1.0   \n",
       "\n",
       "                                           amenities    price  \\\n",
       "0  [Long term stays allowed, Cooking basics, Ethe...  $240.00   \n",
       "1         [Air conditioning, Wifi, Kitchen, Heating]   $66.00   \n",
       "2  [Cooking basics, Microwave, Extra pillows and ...   $81.00   \n",
       "3  [Hair dryer, Air conditioning, Fire extinguish...   $70.00   \n",
       "4  [Fire extinguisher, Long term stays allowed, H...   $65.00   \n",
       "\n",
       "   number_of_reviews first_review last_review  review_scores_rating  \\\n",
       "0                 49   2009-11-21  2022-06-21                  4.68   \n",
       "1                 50   2009-05-28  2019-12-02                  4.52   \n",
       "2                191   2009-05-25  2023-08-14                  4.58   \n",
       "3                246   2009-10-28  2023-08-14                  4.88   \n",
       "4                  1   2022-06-05  2022-06-05                  5.00   \n",
       "\n",
       "  reviews_per_month  \n",
       "0              0.29  \n",
       "1              0.28  \n",
       "2              1.08  \n",
       "3              1.43  \n",
       "4              0.05  \n",
       "\n",
       "[5 rows x 23 columns]"
      ]
     },
     "execution_count": 5,
     "metadata": {},
     "output_type": "execute_result"
    }
   ],
   "source": [
    "listings_arr = listings.find()\n",
    "listings_df = pd.DataFrame(listings_arr)\n",
    "listings_df.head()"
   ]
  },
  {
   "cell_type": "markdown",
   "id": "7a5df536-4578-49c9-b9d3-561b5e728c68",
   "metadata": {},
   "source": [
    "## Clean the data"
   ]
  },
  {
   "cell_type": "code",
   "execution_count": 6,
   "id": "7c427be7-d1ea-404b-9f8e-15893f3361ca",
   "metadata": {},
   "outputs": [
    {
     "data": {
      "text/plain": [
       "_id                                     object\n",
       "id                                       int64\n",
       "listing_url                             object\n",
       "name                                    object\n",
       "neighborhood_overview                   object\n",
       "neighbourhood_cleansed                  object\n",
       "neighbourhood_group_cleansed            object\n",
       "latitude                               float64\n",
       "longitude                              float64\n",
       "property_type                           object\n",
       "room_type                               object\n",
       "accommodates                             int64\n",
       "bathrooms                               object\n",
       "bathrooms_text                          object\n",
       "bedrooms                               float64\n",
       "beds                                   float64\n",
       "amenities                               object\n",
       "price                                   object\n",
       "number_of_reviews                        int64\n",
       "first_review                    datetime64[ns]\n",
       "last_review                     datetime64[ns]\n",
       "review_scores_rating                   float64\n",
       "reviews_per_month                      float64\n",
       "dtype: object"
      ]
     },
     "execution_count": 6,
     "metadata": {},
     "output_type": "execute_result"
    }
   ],
   "source": [
    "listings_df.dtypes"
   ]
  },
  {
   "cell_type": "code",
   "execution_count": 7,
   "id": "895d90e5-d5c1-4ca9-9316-6b8b8c4a5841",
   "metadata": {},
   "outputs": [
    {
     "data": {
      "text/plain": [
       "name                             object\n",
       "neighbourhood_cleansed           object\n",
       "neighbourhood_group_cleansed     object\n",
       "latitude                        float64\n",
       "longitude                       float64\n",
       "room_type                        object\n",
       "amenities                        object\n",
       "price                            object\n",
       "number_of_reviews                 int64\n",
       "review_scores_rating            float64\n",
       "dtype: object"
      ]
     },
     "execution_count": 7,
     "metadata": {},
     "output_type": "execute_result"
    }
   ],
   "source": [
    "reduced_listings = listings_df[['name', 'neighbourhood_cleansed', 'neighbourhood_group_cleansed'\\\n",
    "                               ,'latitude','longitude','room_type', 'amenities', 'price'\\\n",
    "                                , 'number_of_reviews', 'review_scores_rating']]\n",
    "reduced_listings.dtypes"
   ]
  },
  {
   "cell_type": "code",
   "execution_count": 8,
   "id": "86bed6fc-f754-4ddf-b7ad-7777d08a9556",
   "metadata": {},
   "outputs": [
    {
     "name": "stderr",
     "output_type": "stream",
     "text": [
      "/var/folders/1n/vt92nzjx09bg0bnkhkjgfbcw0000gn/T/ipykernel_8659/95660149.py:1: SettingWithCopyWarning: \n",
      "A value is trying to be set on a copy of a slice from a DataFrame.\n",
      "Try using .loc[row_indexer,col_indexer] = value instead\n",
      "\n",
      "See the caveats in the documentation: https://pandas.pydata.org/pandas-docs/stable/user_guide/indexing.html#returning-a-view-versus-a-copy\n",
      "  reduced_listings['price'] = reduced_listings['price'].str.replace(\",\", \"\")\n",
      "/var/folders/1n/vt92nzjx09bg0bnkhkjgfbcw0000gn/T/ipykernel_8659/95660149.py:2: SettingWithCopyWarning: \n",
      "A value is trying to be set on a copy of a slice from a DataFrame.\n",
      "Try using .loc[row_indexer,col_indexer] = value instead\n",
      "\n",
      "See the caveats in the documentation: https://pandas.pydata.org/pandas-docs/stable/user_guide/indexing.html#returning-a-view-versus-a-copy\n",
      "  reduced_listings['price'] = reduced_listings['price'].str.replace(\"$\", \"\")\n"
     ]
    },
    {
     "data": {
      "text/plain": [
       "0        240.00\n",
       "1         66.00\n",
       "2         81.00\n",
       "3         70.00\n",
       "4         65.00\n",
       "          ...  \n",
       "28127    225.00\n",
       "28128    101.00\n",
       "28129    105.00\n",
       "28130    118.00\n",
       "28131    285.00\n",
       "Name: price, Length: 28132, dtype: object"
      ]
     },
     "execution_count": 8,
     "metadata": {},
     "output_type": "execute_result"
    }
   ],
   "source": [
    "reduced_listings['price'] = reduced_listings['price'].str.replace(\",\", \"\")\n",
    "reduced_listings['price'] = reduced_listings['price'].str.replace(\"$\", \"\")\n",
    "\n",
    "reduced_listings['price']"
   ]
  },
  {
   "cell_type": "code",
   "execution_count": 9,
   "id": "22dc4821-4e6b-40cb-be4c-55abe225243e",
   "metadata": {},
   "outputs": [
    {
     "data": {
      "text/plain": [
       "name                             object\n",
       "neighbourhood_cleansed           object\n",
       "neighbourhood_group_cleansed     object\n",
       "latitude                        float64\n",
       "longitude                       float64\n",
       "room_type                        object\n",
       "amenities                        object\n",
       "price                           float64\n",
       "number_of_reviews                 int64\n",
       "review_scores_rating            float64\n",
       "dtype: object"
      ]
     },
     "execution_count": 9,
     "metadata": {},
     "output_type": "execute_result"
    }
   ],
   "source": [
    "reduced_listings = reduced_listings.astype({\n",
    "    \"price\": float\n",
    "})\n",
    "\n",
    "reduced_listings.dtypes"
   ]
  },
  {
   "cell_type": "code",
   "execution_count": 10,
   "id": "e27dd24a-20ca-4607-b667-3bc73aa82d31",
   "metadata": {},
   "outputs": [],
   "source": [
    "reduced_listings.to_json(\"data/cleaned_listings.json\", orient=\"records\")\n"
   ]
  },
  {
   "cell_type": "markdown",
   "id": "04cae98e-27ff-4538-8657-9df83ee4e71b",
   "metadata": {},
   "source": [
    "# Aggregate Functions"
   ]
  },
  {
   "cell_type": "code",
   "execution_count": 11,
   "id": "cd23260b-6c12-4d43-93d9-72b3b8ad1b9b",
   "metadata": {},
   "outputs": [],
   "source": [
    "boroughs = reduced_listings[\"neighbourhood_group_cleansed\"].unique()"
   ]
  },
  {
   "cell_type": "markdown",
   "id": "e6973998-4318-48ba-90ed-7dc082b659ff",
   "metadata": {},
   "source": [
    "## Find Average Price and Count of Room Types:\n",
    "### Grouped by borough, neighbourhood, and room type"
   ]
  },
  {
   "cell_type": "code",
   "execution_count": 12,
   "id": "c7a289fa-aa17-467d-9320-36b96911e2b0",
   "metadata": {},
   "outputs": [],
   "source": [
    "# avg price\n",
    "def nbhd_price_avg(df):\n",
    "    avg_price = df.groupby(['neighbourhood_group_cleansed', \"neighbourhood_cleansed\", 'room_type'])[\"price\"].mean()\n",
    "    avg_price_boro = avg_price.round(2).reset_index() \n",
    "    return avg_price_boro\n",
    "\n",
    "price_per_nbhd = nbhd_price_avg(reduced_listings)"
   ]
  },
  {
   "cell_type": "code",
   "execution_count": 13,
   "id": "a2507983-8d32-4db8-bab7-cf8c1631fb6d",
   "metadata": {},
   "outputs": [],
   "source": [
    "# room counts\n",
    "def nbhd_room_type_count(df):\n",
    "    roomtype_grouped = df.groupby(['neighbourhood_group_cleansed','neighbourhood_cleansed', 'room_type']).size().reset_index(name='room_count')\n",
    "    return roomtype_grouped\n",
    "\n",
    "num_rooms_per_nbhd = nbhd_room_type_count(reduced_listings)"
   ]
  },
  {
   "cell_type": "code",
   "execution_count": 14,
   "id": "a25aa1d4-35ab-4eb9-91fb-dfd577361677",
   "metadata": {},
   "outputs": [
    {
     "data": {
      "text/html": [
       "<div>\n",
       "<style scoped>\n",
       "    .dataframe tbody tr th:only-of-type {\n",
       "        vertical-align: middle;\n",
       "    }\n",
       "\n",
       "    .dataframe tbody tr th {\n",
       "        vertical-align: top;\n",
       "    }\n",
       "\n",
       "    .dataframe thead th {\n",
       "        text-align: right;\n",
       "    }\n",
       "</style>\n",
       "<table border=\"1\" class=\"dataframe\">\n",
       "  <thead>\n",
       "    <tr style=\"text-align: right;\">\n",
       "      <th></th>\n",
       "      <th>Borough</th>\n",
       "      <th>Neighbourhood</th>\n",
       "      <th>Room Type</th>\n",
       "      <th>Average Price</th>\n",
       "      <th>Room Count</th>\n",
       "    </tr>\n",
       "  </thead>\n",
       "  <tbody>\n",
       "    <tr>\n",
       "      <th>0</th>\n",
       "      <td>Bronx</td>\n",
       "      <td>Allerton</td>\n",
       "      <td>Entire home/apt</td>\n",
       "      <td>122.36</td>\n",
       "      <td>22</td>\n",
       "    </tr>\n",
       "    <tr>\n",
       "      <th>1</th>\n",
       "      <td>Bronx</td>\n",
       "      <td>Allerton</td>\n",
       "      <td>Private room</td>\n",
       "      <td>71.53</td>\n",
       "      <td>15</td>\n",
       "    </tr>\n",
       "    <tr>\n",
       "      <th>2</th>\n",
       "      <td>Bronx</td>\n",
       "      <td>Baychester</td>\n",
       "      <td>Entire home/apt</td>\n",
       "      <td>112.80</td>\n",
       "      <td>10</td>\n",
       "    </tr>\n",
       "    <tr>\n",
       "      <th>3</th>\n",
       "      <td>Bronx</td>\n",
       "      <td>Baychester</td>\n",
       "      <td>Private room</td>\n",
       "      <td>76.31</td>\n",
       "      <td>13</td>\n",
       "    </tr>\n",
       "    <tr>\n",
       "      <th>4</th>\n",
       "      <td>Bronx</td>\n",
       "      <td>Baychester</td>\n",
       "      <td>Shared room</td>\n",
       "      <td>180.00</td>\n",
       "      <td>2</td>\n",
       "    </tr>\n",
       "  </tbody>\n",
       "</table>\n",
       "</div>"
      ],
      "text/plain": [
       "  Borough Neighbourhood        Room Type  Average Price  Room Count\n",
       "0   Bronx      Allerton  Entire home/apt         122.36          22\n",
       "1   Bronx      Allerton     Private room          71.53          15\n",
       "2   Bronx    Baychester  Entire home/apt         112.80          10\n",
       "3   Bronx    Baychester     Private room          76.31          13\n",
       "4   Bronx    Baychester      Shared room         180.00           2"
      ]
     },
     "execution_count": 14,
     "metadata": {},
     "output_type": "execute_result"
    }
   ],
   "source": [
    "# Merge both DataFrames\n",
    "combined_df = price_per_nbhd.merge(num_rooms_per_nbhd, how='inner', on=['neighbourhood_group_cleansed','neighbourhood_cleansed', 'room_type'])\n",
    "\n",
    "combined_df = combined_df.rename(columns={'neighbourhood_group_cleansed': 'Borough', 'neighbourhood_cleansed': 'Neighbourhood', 'room_type': \"Room Type\", 'price': \"Average Price\", 'room_count': 'Room Count'})\n",
    "\n",
    "combined_df.to_json(\"data/group_aggregates.json\", orient=\"records\")\n",
    "\n",
    "combined_df.head()"
   ]
  },
  {
   "cell_type": "markdown",
   "id": "2113244e-4fcc-45fe-9d1e-ce1cd0a9cb86",
   "metadata": {},
   "source": [
    "## Specific Amenity counts per borough: "
   ]
  },
  {
   "cell_type": "code",
   "execution_count": 51,
   "id": "da7125e8-c73b-46ea-ae81-14effdd86366",
   "metadata": {},
   "outputs": [],
   "source": [
    "keywords = [\"Wifi\", \"Kitchen\", \"Air conditioning\", \"Backyard\", \"Pets allowed\", \"Washer\", \"Dryer\", \"Long term stays allowed\", \"Elevator\", \"Dedicated workspace\"]\n",
    "\n",
    "def amenities_by_nbhd(df, keywords):\n",
    "\n",
    "    # Explode the amenities column:\n",
    "    \n",
    "    listings_exploded = reduced_listings.explode('amenities').copy()\n",
    "    \n",
    "    # Count the occurrences of each keyword in the amenities column by neighborhood\n",
    "\n",
    "    listings_exploded[\"amenities\"] = listings_exploded[\"amenities\"].apply(lambda x : x.lower() if type(x)==str else x) \n",
    "    keywords = [x.lower() for x in keywords]\n",
    "    listings_exploded = listings_exploded[listings_exploded[\"amenities\"].isin(keywords)].reset_index(drop=1)\n",
    "    listings_exploded = listings_exploded.groupby([\"neighbourhood_cleansed\", \"neighbourhood_group_cleansed\", \"amenities\"]).size().reset_index(name='count')\n",
    "    listings_exploded = listings_exploded.rename(columns={'neighbourhood_group_cleansed':'Borough', 'neighbourhood_cleansed':'Neighbourhood'})\n",
    "    return listings_exploded\n",
    "\n",
    "amenities_per_nbhd = amenities_by_nbhd(reduced_listings,keywords)\n",
    "amenities_per_nbhd.to_json(\"data/amenities_aggregates.json\", orient=\"records\")"
   ]
  },
  {
   "cell_type": "markdown",
   "id": "e803cead-8cb8-461a-b629-ff67113b233e",
   "metadata": {},
   "source": [
    "## Create the Endpoints"
   ]
  },
  {
   "cell_type": "code",
   "execution_count": 16,
   "id": "b48d057a-0b27-44a0-9b32-5f8755d87e8c",
   "metadata": {},
   "outputs": [
    {
     "name": "stdout",
     "output_type": "stream",
     "text": [
      " * Serving Flask app '__main__'\n",
      " * Debug mode: on\n"
     ]
    },
    {
     "name": "stderr",
     "output_type": "stream",
     "text": [
      "\u001b[31m\u001b[1mWARNING: This is a development server. Do not use it in a production deployment. Use a production WSGI server instead.\u001b[0m\n",
      " * Running on http://127.0.0.1:5000\n",
      "\u001b[33mPress CTRL+C to quit\u001b[0m\n",
      " * Restarting with stat\n",
      "0.00s - Debugger warning: It seems that frozen modules are being used, which may\n",
      "0.00s - make the debugger miss breakpoints. Please pass -Xfrozen_modules=off\n",
      "0.00s - to python to disable frozen modules.\n",
      "0.00s - Note: Debugging will proceed. Set PYDEVD_DISABLE_FILE_VALIDATION=1 to disable this validation.\n",
      "Traceback (most recent call last):\n",
      "  File \"<frozen runpy>\", line 198, in _run_module_as_main\n",
      "  File \"<frozen runpy>\", line 88, in _run_code\n",
      "  File \"/opt/anaconda3/envs/dev/lib/python3.12/site-packages/ipykernel_launcher.py\", line 17, in <module>\n",
      "    app.launch_new_instance()\n",
      "  File \"/opt/anaconda3/envs/dev/lib/python3.12/site-packages/traitlets/config/application.py\", line 991, in launch_instance\n",
      "    app.initialize(argv)\n",
      "  File \"/opt/anaconda3/envs/dev/lib/python3.12/site-packages/traitlets/config/application.py\", line 113, in inner\n",
      "    return method(app, *args, **kwargs)\n",
      "           ^^^^^^^^^^^^^^^^^^^^^^^^^^^^\n",
      "  File \"/opt/anaconda3/envs/dev/lib/python3.12/site-packages/ipykernel/kernelapp.py\", line 654, in initialize\n",
      "    self.init_sockets()\n",
      "  File \"/opt/anaconda3/envs/dev/lib/python3.12/site-packages/ipykernel/kernelapp.py\", line 331, in init_sockets\n",
      "    self.shell_port = self._bind_socket(self.shell_socket, self.shell_port)\n",
      "                      ^^^^^^^^^^^^^^^^^^^^^^^^^^^^^^^^^^^^^^^^^^^^^^^^^^^^^\n",
      "  File \"/opt/anaconda3/envs/dev/lib/python3.12/site-packages/ipykernel/kernelapp.py\", line 253, in _bind_socket\n",
      "    return self._try_bind_socket(s, port)\n",
      "           ^^^^^^^^^^^^^^^^^^^^^^^^^^^^^^\n",
      "  File \"/opt/anaconda3/envs/dev/lib/python3.12/site-packages/ipykernel/kernelapp.py\", line 229, in _try_bind_socket\n",
      "    s.bind(\"tcp://%s:%i\" % (self.ip, port))\n",
      "  File \"/opt/anaconda3/envs/dev/lib/python3.12/site-packages/zmq/sugar/socket.py\", line 302, in bind\n",
      "    super().bind(addr)\n",
      "  File \"zmq/backend/cython/socket.pyx\", line 564, in zmq.backend.cython.socket.Socket.bind\n",
      "  File \"zmq/backend/cython/checkrc.pxd\", line 28, in zmq.backend.cython.checkrc._check_rc\n",
      "zmq.error.ZMQError: Address already in use (addr='tcp://127.0.0.1:51879')\n"
     ]
    },
    {
     "ename": "SystemExit",
     "evalue": "1",
     "output_type": "error",
     "traceback": [
      "An exception has occurred, use %tb to see the full traceback.\n",
      "\u001b[0;31mSystemExit\u001b[0m\u001b[0;31m:\u001b[0m 1\n"
     ]
    },
    {
     "name": "stderr",
     "output_type": "stream",
     "text": [
      "/opt/anaconda3/envs/dev/lib/python3.12/site-packages/IPython/core/interactiveshell.py:3561: UserWarning: To exit: use 'exit', 'quit', or Ctrl-D.\n",
      "  warn(\"To exit: use 'exit', 'quit', or Ctrl-D.\", stacklevel=1)\n"
     ]
    }
   ],
   "source": [
    "from flask import Flask, jsonify\n",
    "from flask_cors import CORS\n",
    "from pymongo import MongoClient\n",
    "\n",
    "app = Flask(__name__)\n",
    "CORS(app)\n",
    "\n",
    "results = combined_df.to_json(orient='records')\n",
    "\n",
    "@app.route('/aggregates', methods=['GET'])\n",
    "def get_aggregates():\n",
    "    # aggregates =   # Use find() instead of findAll()\n",
    "    # data = []\n",
    "    # for listings in reduced_listings:\n",
    "    #     data.append({\n",
    "    #         'type': feature.get('type'),\n",
    "    #         'properties': {\n",
    "    #             'name': listings['name'],\n",
    "    #             'latitude': properties.get('latitude'),\n",
    "    #             'longitude': properties.get('longitude'),\n",
    "    #             'operator': properties.get('operator'),\n",
    "    #             'status': properties.get('status'),\n",
    "    #             'location_type': properties.get('location_type'),\n",
    "    #             'facility_name': properties.get('facility_name'),\n",
    "    #             'hours_of_operation': properties.get('hours_of_operation')\n",
    "    #         },\n",
    "    #         'geometry': {\n",
    "    #             'type': geometry.get('type'),\n",
    "    #             'coordinates': geometry.get('coordinates')\n",
    "    #         }\n",
    "    #     })\n",
    "    return jsonify(results)\n",
    "\n",
    "if __name__ == '__main__':\n",
    "    app.run(debug=True)"
   ]
  },
  {
   "cell_type": "markdown",
   "id": "63f6f487-56da-4ea7-99cf-93402939092c",
   "metadata": {},
   "source": [
    "## ToDo Graphing:"
   ]
  },
  {
   "cell_type": "markdown",
   "id": "a715d750-b418-4ce1-b2be-40644b9239d8",
   "metadata": {},
   "source": [
    "bar chart\n",
    "    stacked amenities by neighbourhood\n",
    "        (potential drop-down for specified amenities)\n",
    "\n",
    "pie chart\n",
    "    percent of each room type for the borough\n",
    "\n",
    "scatter plot\n",
    "    average price distribution by room type\n",
    "        (a scatter plot for each room type with regression line)\n",
    "\n",
    "box plot\n",
    "    price by borough\n",
    "        (the price of all)\n",
    "\n"
   ]
  },
  {
   "cell_type": "code",
   "execution_count": null,
   "id": "c5d015ae-e608-49f4-bb0b-6088460bbc4b",
   "metadata": {},
   "outputs": [],
   "source": []
  }
 ],
 "metadata": {
  "kernelspec": {
   "display_name": "Python 3 (ipykernel)",
   "language": "python",
   "name": "python3"
  },
  "language_info": {
   "codemirror_mode": {
    "name": "ipython",
    "version": 3
   },
   "file_extension": ".py",
   "mimetype": "text/x-python",
   "name": "python",
   "nbconvert_exporter": "python",
   "pygments_lexer": "ipython3",
   "version": "3.11.7"
  }
 },
 "nbformat": 4,
 "nbformat_minor": 5
}
